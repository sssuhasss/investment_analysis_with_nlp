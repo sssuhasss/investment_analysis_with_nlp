{
 "cells": [
  {
   "cell_type": "code",
   "execution_count": 19,
   "id": "a3816797",
   "metadata": {},
   "outputs": [],
   "source": [
    "# Import package dependencies\n",
    "import pandas as pd  \n",
    "import matplotlib.pyplot as plt \n",
    "import seaborn as sns  \n",
    "sns.set()  \n",
    "import os\n",
    "%matplotlib inline"
   ]
  },
  {
   "cell_type": "code",
   "execution_count": 20,
   "id": "f186f1b9",
   "metadata": {},
   "outputs": [],
   "source": [
    "df = pd.read_csv('stock_prices.csv')"
   ]
  },
  {
   "cell_type": "code",
   "execution_count": 21,
   "id": "19bf30f1",
   "metadata": {},
   "outputs": [
    {
     "data": {
      "text/html": [
       "<div>\n",
       "<style scoped>\n",
       "    .dataframe tbody tr th:only-of-type {\n",
       "        vertical-align: middle;\n",
       "    }\n",
       "\n",
       "    .dataframe tbody tr th {\n",
       "        vertical-align: top;\n",
       "    }\n",
       "\n",
       "    .dataframe thead th {\n",
       "        text-align: right;\n",
       "    }\n",
       "</style>\n",
       "<table border=\"1\" class=\"dataframe\">\n",
       "  <thead>\n",
       "    <tr style=\"text-align: right;\">\n",
       "      <th></th>\n",
       "      <th>ticker</th>\n",
       "      <th>date</th>\n",
       "      <th>price</th>\n",
       "    </tr>\n",
       "  </thead>\n",
       "  <tbody>\n",
       "    <tr>\n",
       "      <th>320656</th>\n",
       "      <td>HPQ</td>\n",
       "      <td>2017-11-06</td>\n",
       "      <td>21.44</td>\n",
       "    </tr>\n",
       "    <tr>\n",
       "      <th>320657</th>\n",
       "      <td>HPQ</td>\n",
       "      <td>2017-11-07</td>\n",
       "      <td>21.38</td>\n",
       "    </tr>\n",
       "    <tr>\n",
       "      <th>320658</th>\n",
       "      <td>HPQ</td>\n",
       "      <td>2017-11-08</td>\n",
       "      <td>21.42</td>\n",
       "    </tr>\n",
       "    <tr>\n",
       "      <th>320659</th>\n",
       "      <td>HPQ</td>\n",
       "      <td>2017-11-09</td>\n",
       "      <td>21.34</td>\n",
       "    </tr>\n",
       "    <tr>\n",
       "      <th>320660</th>\n",
       "      <td>HPQ</td>\n",
       "      <td>2017-11-10</td>\n",
       "      <td>21.23</td>\n",
       "    </tr>\n",
       "  </tbody>\n",
       "</table>\n",
       "</div>"
      ],
      "text/plain": [
       "       ticker        date  price\n",
       "320656    HPQ  2017-11-06  21.44\n",
       "320657    HPQ  2017-11-07  21.38\n",
       "320658    HPQ  2017-11-08  21.42\n",
       "320659    HPQ  2017-11-09  21.34\n",
       "320660    HPQ  2017-11-10  21.23"
      ]
     },
     "execution_count": 21,
     "metadata": {},
     "output_type": "execute_result"
    }
   ],
   "source": [
    "df.tail()"
   ]
  },
  {
   "cell_type": "code",
   "execution_count": 22,
   "id": "e37bbda4",
   "metadata": {},
   "outputs": [
    {
     "data": {
      "text/plain": [
       "99"
      ]
     },
     "execution_count": 22,
     "metadata": {},
     "output_type": "execute_result"
    }
   ],
   "source": [
    "# total number of firms in the dataset\n",
    "df['ticker'].nunique()"
   ]
  },
  {
   "cell_type": "code",
   "execution_count": 23,
   "id": "33831ca5",
   "metadata": {},
   "outputs": [
    {
     "data": {
      "text/plain": [
       "'2005-01-03'"
      ]
     },
     "execution_count": 23,
     "metadata": {},
     "output_type": "execute_result"
    }
   ],
   "source": [
    "df['date'][0]"
   ]
  },
  {
   "cell_type": "code",
   "execution_count": 24,
   "id": "f7e58dfa",
   "metadata": {},
   "outputs": [
    {
     "data": {
      "text/plain": [
       "str"
      ]
     },
     "execution_count": 24,
     "metadata": {},
     "output_type": "execute_result"
    }
   ],
   "source": [
    "type(df['date'][0])"
   ]
  },
  {
   "cell_type": "code",
   "execution_count": 25,
   "id": "e5c06960",
   "metadata": {},
   "outputs": [],
   "source": [
    "# Convert the date to a timestamp object\n",
    "df['date'] = pd.to_datetime(df['date'], format='%Y-%m-%d')"
   ]
  },
  {
   "cell_type": "code",
   "execution_count": 26,
   "id": "dbc1f83d",
   "metadata": {},
   "outputs": [
    {
     "data": {
      "text/plain": [
       "Timestamp('2005-01-03 00:00:00')"
      ]
     },
     "execution_count": 26,
     "metadata": {},
     "output_type": "execute_result"
    }
   ],
   "source": [
    "df['date'][0]\n"
   ]
  },
  {
   "cell_type": "code",
   "execution_count": 27,
   "id": "c016f51e",
   "metadata": {},
   "outputs": [
    {
     "data": {
      "text/plain": [
       "pandas._libs.tslibs.timestamps.Timestamp"
      ]
     },
     "execution_count": 27,
     "metadata": {},
     "output_type": "execute_result"
    }
   ],
   "source": [
    "type(df['date'][0])"
   ]
  },
  {
   "cell_type": "code",
   "execution_count": 28,
   "id": "306ac8d8",
   "metadata": {},
   "outputs": [
    {
     "data": {
      "text/plain": [
       "count                  320661\n",
       "unique                   3239\n",
       "top       2009-05-29 00:00:00\n",
       "freq                       99\n",
       "first     2005-01-03 00:00:00\n",
       "last      2017-11-10 00:00:00\n",
       "Name: date, dtype: object"
      ]
     },
     "execution_count": 28,
     "metadata": {},
     "output_type": "execute_result"
    }
   ],
   "source": [
    "df['date'].describe()"
   ]
  },
  {
   "cell_type": "code",
   "execution_count": 29,
   "id": "ab4c6515",
   "metadata": {},
   "outputs": [],
   "source": [
    "#pct change calculates the return of a stock. \n",
    "#Groupby ticker calculates the pct_change (or daily returns) for each unique ticker, one at a time.\n",
    "df['returns'] = df.groupby('ticker')['price'].pct_change(1)"
   ]
  },
  {
   "cell_type": "code",
   "execution_count": 30,
   "id": "ff05ac87",
   "metadata": {},
   "outputs": [
    {
     "data": {
      "text/html": [
       "<div>\n",
       "<style scoped>\n",
       "    .dataframe tbody tr th:only-of-type {\n",
       "        vertical-align: middle;\n",
       "    }\n",
       "\n",
       "    .dataframe tbody tr th {\n",
       "        vertical-align: top;\n",
       "    }\n",
       "\n",
       "    .dataframe thead th {\n",
       "        text-align: right;\n",
       "    }\n",
       "</style>\n",
       "<table border=\"1\" class=\"dataframe\">\n",
       "  <thead>\n",
       "    <tr style=\"text-align: right;\">\n",
       "      <th></th>\n",
       "      <th>count</th>\n",
       "      <th>mean</th>\n",
       "      <th>std</th>\n",
       "      <th>min</th>\n",
       "      <th>25%</th>\n",
       "      <th>50%</th>\n",
       "      <th>75%</th>\n",
       "      <th>max</th>\n",
       "    </tr>\n",
       "    <tr>\n",
       "      <th>ticker</th>\n",
       "      <th></th>\n",
       "      <th></th>\n",
       "      <th></th>\n",
       "      <th></th>\n",
       "      <th></th>\n",
       "      <th></th>\n",
       "      <th></th>\n",
       "      <th></th>\n",
       "    </tr>\n",
       "  </thead>\n",
       "  <tbody>\n",
       "    <tr>\n",
       "      <th>A</th>\n",
       "      <td>3238.0</td>\n",
       "      <td>0.000636</td>\n",
       "      <td>0.019859</td>\n",
       "      <td>-0.110166</td>\n",
       "      <td>-0.008437</td>\n",
       "      <td>0.000763</td>\n",
       "      <td>0.010311</td>\n",
       "      <td>0.148435</td>\n",
       "    </tr>\n",
       "    <tr>\n",
       "      <th>ADBE</th>\n",
       "      <td>3238.0</td>\n",
       "      <td>0.000763</td>\n",
       "      <td>0.020776</td>\n",
       "      <td>-0.190346</td>\n",
       "      <td>-0.008654</td>\n",
       "      <td>0.000676</td>\n",
       "      <td>0.010372</td>\n",
       "      <td>0.143581</td>\n",
       "    </tr>\n",
       "    <tr>\n",
       "      <th>AES</th>\n",
       "      <td>3238.0</td>\n",
       "      <td>0.000228</td>\n",
       "      <td>0.023373</td>\n",
       "      <td>-0.157206</td>\n",
       "      <td>-0.010418</td>\n",
       "      <td>0.000477</td>\n",
       "      <td>0.010958</td>\n",
       "      <td>0.282877</td>\n",
       "    </tr>\n",
       "    <tr>\n",
       "      <th>AKAM</th>\n",
       "      <td>3201.0</td>\n",
       "      <td>0.000918</td>\n",
       "      <td>0.029074</td>\n",
       "      <td>-0.253120</td>\n",
       "      <td>-0.011140</td>\n",
       "      <td>0.000463</td>\n",
       "      <td>0.013407</td>\n",
       "      <td>0.240354</td>\n",
       "    </tr>\n",
       "    <tr>\n",
       "      <th>ALK</th>\n",
       "      <td>3201.0</td>\n",
       "      <td>0.001077</td>\n",
       "      <td>0.028163</td>\n",
       "      <td>-0.185932</td>\n",
       "      <td>-0.012498</td>\n",
       "      <td>0.000849</td>\n",
       "      <td>0.014608</td>\n",
       "      <td>0.312808</td>\n",
       "    </tr>\n",
       "    <tr>\n",
       "      <th>...</th>\n",
       "      <td>...</td>\n",
       "      <td>...</td>\n",
       "      <td>...</td>\n",
       "      <td>...</td>\n",
       "      <td>...</td>\n",
       "      <td>...</td>\n",
       "      <td>...</td>\n",
       "      <td>...</td>\n",
       "    </tr>\n",
       "    <tr>\n",
       "      <th>VIAB</th>\n",
       "      <td>1494.0</td>\n",
       "      <td>-0.000082</td>\n",
       "      <td>0.018713</td>\n",
       "      <td>-0.214829</td>\n",
       "      <td>-0.008356</td>\n",
       "      <td>0.000521</td>\n",
       "      <td>0.009426</td>\n",
       "      <td>0.138521</td>\n",
       "    </tr>\n",
       "    <tr>\n",
       "      <th>VZ</th>\n",
       "      <td>3238.0</td>\n",
       "      <td>0.000215</td>\n",
       "      <td>0.013150</td>\n",
       "      <td>-0.080788</td>\n",
       "      <td>-0.006447</td>\n",
       "      <td>0.000290</td>\n",
       "      <td>0.006883</td>\n",
       "      <td>0.146435</td>\n",
       "    </tr>\n",
       "    <tr>\n",
       "      <th>WCG</th>\n",
       "      <td>3201.0</td>\n",
       "      <td>0.001231</td>\n",
       "      <td>0.033712</td>\n",
       "      <td>-0.629504</td>\n",
       "      <td>-0.011004</td>\n",
       "      <td>0.001294</td>\n",
       "      <td>0.014254</td>\n",
       "      <td>0.240164</td>\n",
       "    </tr>\n",
       "    <tr>\n",
       "      <th>WFC</th>\n",
       "      <td>3238.0</td>\n",
       "      <td>0.000588</td>\n",
       "      <td>0.027199</td>\n",
       "      <td>-0.238233</td>\n",
       "      <td>-0.008001</td>\n",
       "      <td>0.000000</td>\n",
       "      <td>0.008076</td>\n",
       "      <td>0.327508</td>\n",
       "    </tr>\n",
       "    <tr>\n",
       "      <th>ZTS</th>\n",
       "      <td>1204.0</td>\n",
       "      <td>0.000800</td>\n",
       "      <td>0.014358</td>\n",
       "      <td>-0.122060</td>\n",
       "      <td>-0.006467</td>\n",
       "      <td>0.000442</td>\n",
       "      <td>0.007434</td>\n",
       "      <td>0.114041</td>\n",
       "    </tr>\n",
       "  </tbody>\n",
       "</table>\n",
       "<p>99 rows × 8 columns</p>\n",
       "</div>"
      ],
      "text/plain": [
       "         count      mean       std       min       25%       50%       75%  \\\n",
       "ticker                                                                       \n",
       "A       3238.0  0.000636  0.019859 -0.110166 -0.008437  0.000763  0.010311   \n",
       "ADBE    3238.0  0.000763  0.020776 -0.190346 -0.008654  0.000676  0.010372   \n",
       "AES     3238.0  0.000228  0.023373 -0.157206 -0.010418  0.000477  0.010958   \n",
       "AKAM    3201.0  0.000918  0.029074 -0.253120 -0.011140  0.000463  0.013407   \n",
       "ALK     3201.0  0.001077  0.028163 -0.185932 -0.012498  0.000849  0.014608   \n",
       "...        ...       ...       ...       ...       ...       ...       ...   \n",
       "VIAB    1494.0 -0.000082  0.018713 -0.214829 -0.008356  0.000521  0.009426   \n",
       "VZ      3238.0  0.000215  0.013150 -0.080788 -0.006447  0.000290  0.006883   \n",
       "WCG     3201.0  0.001231  0.033712 -0.629504 -0.011004  0.001294  0.014254   \n",
       "WFC     3238.0  0.000588  0.027199 -0.238233 -0.008001  0.000000  0.008076   \n",
       "ZTS     1204.0  0.000800  0.014358 -0.122060 -0.006467  0.000442  0.007434   \n",
       "\n",
       "             max  \n",
       "ticker            \n",
       "A       0.148435  \n",
       "ADBE    0.143581  \n",
       "AES     0.282877  \n",
       "AKAM    0.240354  \n",
       "ALK     0.312808  \n",
       "...          ...  \n",
       "VIAB    0.138521  \n",
       "VZ      0.146435  \n",
       "WCG     0.240164  \n",
       "WFC     0.327508  \n",
       "ZTS     0.114041  \n",
       "\n",
       "[99 rows x 8 columns]"
      ]
     },
     "execution_count": 30,
     "metadata": {},
     "output_type": "execute_result"
    }
   ],
   "source": [
    "#sniff test for observing outliers\n",
    "df.groupby('ticker')['returns'].describe()"
   ]
  },
  {
   "cell_type": "code",
   "execution_count": 31,
   "id": "fdcd760f",
   "metadata": {},
   "outputs": [
    {
     "data": {
      "text/plain": [
       "99.3053865224251"
      ]
     },
     "execution_count": 31,
     "metadata": {},
     "output_type": "execute_result"
    }
   ],
   "source": [
    "#view the highest / maximum value for a return observation.\n",
    "\n",
    "df.groupby('ticker')['returns'].max().max()"
   ]
  },
  {
   "cell_type": "code",
   "execution_count": 32,
   "id": "4a05028c",
   "metadata": {},
   "outputs": [],
   "source": [
    "#At ~ 99.305 this would imply a return of ~= 9,9305% in a single day. \n",
    "#But we're dealing with daily returns which are usually very close to 0 (mean)\n",
    "#this proves that we have atleast 1 outlier"
   ]
  },
  {
   "cell_type": "code",
   "execution_count": 33,
   "id": "78ee8849",
   "metadata": {},
   "outputs": [],
   "source": [
    "#importing mda diles\n",
    "MDA_FILES = os.listdir('mda/')"
   ]
  },
  {
   "cell_type": "code",
   "execution_count": 34,
   "id": "5f35719b",
   "metadata": {},
   "outputs": [
    {
     "data": {
      "text/plain": [
       "1364"
      ]
     },
     "execution_count": 34,
     "metadata": {},
     "output_type": "execute_result"
    }
   ],
   "source": [
    "len(MDA_FILES)"
   ]
  },
  {
   "cell_type": "code",
   "execution_count": 35,
   "id": "cb238a4d",
   "metadata": {},
   "outputs": [
    {
     "data": {
      "text/html": [
       "<div>\n",
       "<style scoped>\n",
       "    .dataframe tbody tr th:only-of-type {\n",
       "        vertical-align: middle;\n",
       "    }\n",
       "\n",
       "    .dataframe tbody tr th {\n",
       "        vertical-align: top;\n",
       "    }\n",
       "\n",
       "    .dataframe thead th {\n",
       "        text-align: right;\n",
       "    }\n",
       "</style>\n",
       "<table border=\"1\" class=\"dataframe\">\n",
       "  <thead>\n",
       "    <tr style=\"text-align: right;\">\n",
       "      <th></th>\n",
       "      <th>file_name</th>\n",
       "    </tr>\n",
       "  </thead>\n",
       "  <tbody>\n",
       "    <tr>\n",
       "      <th>0</th>\n",
       "      <td>1001082_MDA_2005-03-16.txt</td>\n",
       "    </tr>\n",
       "    <tr>\n",
       "      <th>1</th>\n",
       "      <td>1001082_MDA_2006-03-15.txt</td>\n",
       "    </tr>\n",
       "    <tr>\n",
       "      <th>2</th>\n",
       "      <td>1001082_MDA_2007-03-01.txt</td>\n",
       "    </tr>\n",
       "    <tr>\n",
       "      <th>3</th>\n",
       "      <td>1001082_MDA_2008-02-26.txt</td>\n",
       "    </tr>\n",
       "    <tr>\n",
       "      <th>4</th>\n",
       "      <td>1001082_MDA_2009-03-02.txt</td>\n",
       "    </tr>\n",
       "  </tbody>\n",
       "</table>\n",
       "</div>"
      ],
      "text/plain": [
       "                    file_name\n",
       "0  1001082_MDA_2005-03-16.txt\n",
       "1  1001082_MDA_2006-03-15.txt\n",
       "2  1001082_MDA_2007-03-01.txt\n",
       "3  1001082_MDA_2008-02-26.txt\n",
       "4  1001082_MDA_2009-03-02.txt"
      ]
     },
     "execution_count": 35,
     "metadata": {},
     "output_type": "execute_result"
    }
   ],
   "source": [
    "# File Naming Convention:\n",
    "# CIKidentifier_docTheme_filingDate.txt\n",
    "df = pd.DataFrame(MDA_FILES)\n",
    "df.columns = ['file_name']\n",
    "df.head()"
   ]
  },
  {
   "cell_type": "code",
   "execution_count": 36,
   "id": "3af59e71",
   "metadata": {},
   "outputs": [],
   "source": [
    "# Get the CIK for each firm and  filing date for each firm\n",
    "df['cik'] = df['file_name'].apply(lambda x : x.split('_')[0])\n",
    "\n",
    "\n",
    "df['filing_date'] = df['file_name'].apply(lambda x : x.split('_')[2].split('.')[0])"
   ]
  },
  {
   "cell_type": "code",
   "execution_count": 37,
   "id": "692fee0a",
   "metadata": {},
   "outputs": [
    {
     "data": {
      "text/html": [
       "<div>\n",
       "<style scoped>\n",
       "    .dataframe tbody tr th:only-of-type {\n",
       "        vertical-align: middle;\n",
       "    }\n",
       "\n",
       "    .dataframe tbody tr th {\n",
       "        vertical-align: top;\n",
       "    }\n",
       "\n",
       "    .dataframe thead th {\n",
       "        text-align: right;\n",
       "    }\n",
       "</style>\n",
       "<table border=\"1\" class=\"dataframe\">\n",
       "  <thead>\n",
       "    <tr style=\"text-align: right;\">\n",
       "      <th></th>\n",
       "      <th>file_name</th>\n",
       "      <th>cik</th>\n",
       "      <th>filing_date</th>\n",
       "    </tr>\n",
       "  </thead>\n",
       "  <tbody>\n",
       "    <tr>\n",
       "      <th>0</th>\n",
       "      <td>1001082_MDA_2005-03-16.txt</td>\n",
       "      <td>1001082</td>\n",
       "      <td>2005-03-16</td>\n",
       "    </tr>\n",
       "    <tr>\n",
       "      <th>1</th>\n",
       "      <td>1001082_MDA_2006-03-15.txt</td>\n",
       "      <td>1001082</td>\n",
       "      <td>2006-03-15</td>\n",
       "    </tr>\n",
       "    <tr>\n",
       "      <th>2</th>\n",
       "      <td>1001082_MDA_2007-03-01.txt</td>\n",
       "      <td>1001082</td>\n",
       "      <td>2007-03-01</td>\n",
       "    </tr>\n",
       "    <tr>\n",
       "      <th>3</th>\n",
       "      <td>1001082_MDA_2008-02-26.txt</td>\n",
       "      <td>1001082</td>\n",
       "      <td>2008-02-26</td>\n",
       "    </tr>\n",
       "    <tr>\n",
       "      <th>4</th>\n",
       "      <td>1001082_MDA_2009-03-02.txt</td>\n",
       "      <td>1001082</td>\n",
       "      <td>2009-03-02</td>\n",
       "    </tr>\n",
       "  </tbody>\n",
       "</table>\n",
       "</div>"
      ],
      "text/plain": [
       "                    file_name      cik filing_date\n",
       "0  1001082_MDA_2005-03-16.txt  1001082  2005-03-16\n",
       "1  1001082_MDA_2006-03-15.txt  1001082  2006-03-15\n",
       "2  1001082_MDA_2007-03-01.txt  1001082  2007-03-01\n",
       "3  1001082_MDA_2008-02-26.txt  1001082  2008-02-26\n",
       "4  1001082_MDA_2009-03-02.txt  1001082  2009-03-02"
      ]
     },
     "execution_count": 37,
     "metadata": {},
     "output_type": "execute_result"
    }
   ],
   "source": [
    "df.head()"
   ]
  },
  {
   "cell_type": "code",
   "execution_count": 38,
   "id": "dd8a5bb1",
   "metadata": {},
   "outputs": [],
   "source": [
    "# Convert the date strings to pandas timestamps\n",
    "df['filing_date'] = pd.to_datetime(df['filing_date'], format='%Y-%m-%d')"
   ]
  },
  {
   "cell_type": "code",
   "execution_count": 39,
   "id": "d6a5c276",
   "metadata": {},
   "outputs": [
    {
     "data": {
      "text/plain": [
       "Timestamp('2005-03-16 00:00:00')"
      ]
     },
     "execution_count": 39,
     "metadata": {},
     "output_type": "execute_result"
    }
   ],
   "source": [
    "df['filing_date'][0]"
   ]
  },
  {
   "cell_type": "code",
   "execution_count": 40,
   "id": "8d7e8810",
   "metadata": {},
   "outputs": [
    {
     "data": {
      "text/html": [
       "<div>\n",
       "<style scoped>\n",
       "    .dataframe tbody tr th:only-of-type {\n",
       "        vertical-align: middle;\n",
       "    }\n",
       "\n",
       "    .dataframe tbody tr th {\n",
       "        vertical-align: top;\n",
       "    }\n",
       "\n",
       "    .dataframe thead th {\n",
       "        text-align: right;\n",
       "    }\n",
       "</style>\n",
       "<table border=\"1\" class=\"dataframe\">\n",
       "  <thead>\n",
       "    <tr style=\"text-align: right;\">\n",
       "      <th></th>\n",
       "      <th>file_name</th>\n",
       "      <th>cik</th>\n",
       "      <th>filing_date</th>\n",
       "    </tr>\n",
       "  </thead>\n",
       "  <tbody>\n",
       "    <tr>\n",
       "      <th>count</th>\n",
       "      <td>1364</td>\n",
       "      <td>1364</td>\n",
       "      <td>1364</td>\n",
       "    </tr>\n",
       "    <tr>\n",
       "      <th>unique</th>\n",
       "      <td>1364</td>\n",
       "      <td>99</td>\n",
       "      <td>597</td>\n",
       "    </tr>\n",
       "    <tr>\n",
       "      <th>top</th>\n",
       "      <td>916365_MDA_2012-02-29.txt</td>\n",
       "      <td>47217</td>\n",
       "      <td>2010-02-26 00:00:00</td>\n",
       "    </tr>\n",
       "    <tr>\n",
       "      <th>freq</th>\n",
       "      <td>1</td>\n",
       "      <td>16</td>\n",
       "      <td>20</td>\n",
       "    </tr>\n",
       "    <tr>\n",
       "      <th>first</th>\n",
       "      <td>NaN</td>\n",
       "      <td>NaN</td>\n",
       "      <td>2005-01-14 00:00:00</td>\n",
       "    </tr>\n",
       "    <tr>\n",
       "      <th>last</th>\n",
       "      <td>NaN</td>\n",
       "      <td>NaN</td>\n",
       "      <td>2019-12-20 00:00:00</td>\n",
       "    </tr>\n",
       "  </tbody>\n",
       "</table>\n",
       "</div>"
      ],
      "text/plain": [
       "                        file_name    cik          filing_date\n",
       "count                        1364   1364                 1364\n",
       "unique                       1364     99                  597\n",
       "top     916365_MDA_2012-02-29.txt  47217  2010-02-26 00:00:00\n",
       "freq                            1     16                   20\n",
       "first                         NaN    NaN  2005-01-14 00:00:00\n",
       "last                          NaN    NaN  2019-12-20 00:00:00"
      ]
     },
     "execution_count": 40,
     "metadata": {},
     "output_type": "execute_result"
    }
   ],
   "source": [
    "df.describe()"
   ]
  },
  {
   "cell_type": "code",
   "execution_count": 42,
   "id": "6a177157",
   "metadata": {},
   "outputs": [
    {
     "data": {
      "text/plain": [
       "<matplotlib.axes._subplots.AxesSubplot at 0x1bd0533f5c8>"
      ]
     },
     "execution_count": 42,
     "metadata": {},
     "output_type": "execute_result"
    },
    {
     "data": {
      "image/png": "[encoded data removed]",
      "text/plain": [
       "<Figure size 936x576 with 1 Axes>"
      ]
     },
     "metadata": {
      "needs_background": "light"
     },
     "output_type": "display_data"
    }
   ],
   "source": [
    "# Explore the number of filings by year\n",
    "df.groupby(df['filing_date'].dt.year)['cik'].count().plot(kind='bar', figsize=(13, 8))"
   ]
  },
  {
   "cell_type": "code",
   "execution_count": 43,
   "id": "9690c93a",
   "metadata": {},
   "outputs": [
    {
     "data": {
      "text/html": [
       "<div>\n",
       "<style scoped>\n",
       "    .dataframe tbody tr th:only-of-type {\n",
       "        vertical-align: middle;\n",
       "    }\n",
       "\n",
       "    .dataframe tbody tr th {\n",
       "        vertical-align: top;\n",
       "    }\n",
       "\n",
       "    .dataframe thead th {\n",
       "        text-align: right;\n",
       "    }\n",
       "</style>\n",
       "<table border=\"1\" class=\"dataframe\">\n",
       "  <thead>\n",
       "    <tr style=\"text-align: right;\">\n",
       "      <th>filing_date</th>\n",
       "      <th>2005</th>\n",
       "      <th>2006</th>\n",
       "      <th>2007</th>\n",
       "      <th>2008</th>\n",
       "      <th>2009</th>\n",
       "      <th>2010</th>\n",
       "      <th>2011</th>\n",
       "      <th>2012</th>\n",
       "      <th>2013</th>\n",
       "      <th>2014</th>\n",
       "      <th>2015</th>\n",
       "      <th>2016</th>\n",
       "      <th>2017</th>\n",
       "      <th>2018</th>\n",
       "      <th>2019</th>\n",
       "    </tr>\n",
       "    <tr>\n",
       "      <th>cik</th>\n",
       "      <th></th>\n",
       "      <th></th>\n",
       "      <th></th>\n",
       "      <th></th>\n",
       "      <th></th>\n",
       "      <th></th>\n",
       "      <th></th>\n",
       "      <th></th>\n",
       "      <th></th>\n",
       "      <th></th>\n",
       "      <th></th>\n",
       "      <th></th>\n",
       "      <th></th>\n",
       "      <th></th>\n",
       "      <th></th>\n",
       "    </tr>\n",
       "  </thead>\n",
       "  <tbody>\n",
       "    <tr>\n",
       "      <th>1001082</th>\n",
       "      <td>1.0</td>\n",
       "      <td>1.0</td>\n",
       "      <td>1.0</td>\n",
       "      <td>1.0</td>\n",
       "      <td>1.0</td>\n",
       "      <td>1.0</td>\n",
       "      <td>1.0</td>\n",
       "      <td>1.0</td>\n",
       "      <td>1.0</td>\n",
       "      <td>1.0</td>\n",
       "      <td>1.0</td>\n",
       "      <td>1.0</td>\n",
       "      <td>1.0</td>\n",
       "      <td>1.0</td>\n",
       "      <td>1.0</td>\n",
       "    </tr>\n",
       "    <tr>\n",
       "      <th>1002047</th>\n",
       "      <td>1.0</td>\n",
       "      <td>1.0</td>\n",
       "      <td>1.0</td>\n",
       "      <td>1.0</td>\n",
       "      <td>1.0</td>\n",
       "      <td>1.0</td>\n",
       "      <td>1.0</td>\n",
       "      <td>1.0</td>\n",
       "      <td>1.0</td>\n",
       "      <td>1.0</td>\n",
       "      <td>1.0</td>\n",
       "      <td>1.0</td>\n",
       "      <td>1.0</td>\n",
       "      <td>1.0</td>\n",
       "      <td>1.0</td>\n",
       "    </tr>\n",
       "    <tr>\n",
       "      <th>1035443</th>\n",
       "      <td>1.0</td>\n",
       "      <td>1.0</td>\n",
       "      <td>1.0</td>\n",
       "      <td>1.0</td>\n",
       "      <td>1.0</td>\n",
       "      <td>1.0</td>\n",
       "      <td>1.0</td>\n",
       "      <td>1.0</td>\n",
       "      <td>1.0</td>\n",
       "      <td>1.0</td>\n",
       "      <td>1.0</td>\n",
       "      <td>1.0</td>\n",
       "      <td>1.0</td>\n",
       "      <td>1.0</td>\n",
       "      <td>1.0</td>\n",
       "    </tr>\n",
       "    <tr>\n",
       "      <th>1037540</th>\n",
       "      <td>1.0</td>\n",
       "      <td>1.0</td>\n",
       "      <td>1.0</td>\n",
       "      <td>1.0</td>\n",
       "      <td>1.0</td>\n",
       "      <td>1.0</td>\n",
       "      <td>1.0</td>\n",
       "      <td>1.0</td>\n",
       "      <td>1.0</td>\n",
       "      <td>1.0</td>\n",
       "      <td>1.0</td>\n",
       "      <td>1.0</td>\n",
       "      <td>1.0</td>\n",
       "      <td>1.0</td>\n",
       "      <td>1.0</td>\n",
       "    </tr>\n",
       "    <tr>\n",
       "      <th>1047862</th>\n",
       "      <td>1.0</td>\n",
       "      <td>1.0</td>\n",
       "      <td>1.0</td>\n",
       "      <td>1.0</td>\n",
       "      <td>1.0</td>\n",
       "      <td>1.0</td>\n",
       "      <td>1.0</td>\n",
       "      <td>1.0</td>\n",
       "      <td>1.0</td>\n",
       "      <td>1.0</td>\n",
       "      <td>1.0</td>\n",
       "      <td>1.0</td>\n",
       "      <td>1.0</td>\n",
       "      <td>1.0</td>\n",
       "      <td>1.0</td>\n",
       "    </tr>\n",
       "    <tr>\n",
       "      <th>...</th>\n",
       "      <td>...</td>\n",
       "      <td>...</td>\n",
       "      <td>...</td>\n",
       "      <td>...</td>\n",
       "      <td>...</td>\n",
       "      <td>...</td>\n",
       "      <td>...</td>\n",
       "      <td>...</td>\n",
       "      <td>...</td>\n",
       "      <td>...</td>\n",
       "      <td>...</td>\n",
       "      <td>...</td>\n",
       "      <td>...</td>\n",
       "      <td>...</td>\n",
       "      <td>...</td>\n",
       "    </tr>\n",
       "    <tr>\n",
       "      <th>92122</th>\n",
       "      <td>1.0</td>\n",
       "      <td>1.0</td>\n",
       "      <td>1.0</td>\n",
       "      <td>1.0</td>\n",
       "      <td>1.0</td>\n",
       "      <td>1.0</td>\n",
       "      <td>1.0</td>\n",
       "      <td>1.0</td>\n",
       "      <td>1.0</td>\n",
       "      <td>1.0</td>\n",
       "      <td>1.0</td>\n",
       "      <td>1.0</td>\n",
       "      <td>1.0</td>\n",
       "      <td>1.0</td>\n",
       "      <td>1.0</td>\n",
       "    </tr>\n",
       "    <tr>\n",
       "      <th>922224</th>\n",
       "      <td>1.0</td>\n",
       "      <td>1.0</td>\n",
       "      <td>1.0</td>\n",
       "      <td>1.0</td>\n",
       "      <td>1.0</td>\n",
       "      <td>1.0</td>\n",
       "      <td>1.0</td>\n",
       "      <td>1.0</td>\n",
       "      <td>1.0</td>\n",
       "      <td>1.0</td>\n",
       "      <td>1.0</td>\n",
       "      <td>1.0</td>\n",
       "      <td>1.0</td>\n",
       "      <td>1.0</td>\n",
       "      <td>1.0</td>\n",
       "    </tr>\n",
       "    <tr>\n",
       "      <th>936468</th>\n",
       "      <td>1.0</td>\n",
       "      <td>1.0</td>\n",
       "      <td>1.0</td>\n",
       "      <td>1.0</td>\n",
       "      <td>1.0</td>\n",
       "      <td>1.0</td>\n",
       "      <td>1.0</td>\n",
       "      <td>1.0</td>\n",
       "      <td>1.0</td>\n",
       "      <td>1.0</td>\n",
       "      <td>1.0</td>\n",
       "      <td>1.0</td>\n",
       "      <td>1.0</td>\n",
       "      <td>1.0</td>\n",
       "      <td>1.0</td>\n",
       "    </tr>\n",
       "    <tr>\n",
       "      <th>940944</th>\n",
       "      <td>1.0</td>\n",
       "      <td>1.0</td>\n",
       "      <td>1.0</td>\n",
       "      <td>1.0</td>\n",
       "      <td>1.0</td>\n",
       "      <td>1.0</td>\n",
       "      <td>1.0</td>\n",
       "      <td>1.0</td>\n",
       "      <td>1.0</td>\n",
       "      <td>1.0</td>\n",
       "      <td>1.0</td>\n",
       "      <td>1.0</td>\n",
       "      <td>1.0</td>\n",
       "      <td>1.0</td>\n",
       "      <td>NaN</td>\n",
       "    </tr>\n",
       "    <tr>\n",
       "      <th>98246</th>\n",
       "      <td>1.0</td>\n",
       "      <td>1.0</td>\n",
       "      <td>1.0</td>\n",
       "      <td>1.0</td>\n",
       "      <td>1.0</td>\n",
       "      <td>1.0</td>\n",
       "      <td>1.0</td>\n",
       "      <td>1.0</td>\n",
       "      <td>1.0</td>\n",
       "      <td>1.0</td>\n",
       "      <td>1.0</td>\n",
       "      <td>1.0</td>\n",
       "      <td>1.0</td>\n",
       "      <td>1.0</td>\n",
       "      <td>1.0</td>\n",
       "    </tr>\n",
       "  </tbody>\n",
       "</table>\n",
       "<p>99 rows × 15 columns</p>\n",
       "</div>"
      ],
      "text/plain": [
       "filing_date  2005  2006  2007  2008  2009  2010  2011  2012  2013  2014  2015  \\\n",
       "cik                                                                             \n",
       "1001082       1.0   1.0   1.0   1.0   1.0   1.0   1.0   1.0   1.0   1.0   1.0   \n",
       "1002047       1.0   1.0   1.0   1.0   1.0   1.0   1.0   1.0   1.0   1.0   1.0   \n",
       "1035443       1.0   1.0   1.0   1.0   1.0   1.0   1.0   1.0   1.0   1.0   1.0   \n",
       "1037540       1.0   1.0   1.0   1.0   1.0   1.0   1.0   1.0   1.0   1.0   1.0   \n",
       "1047862       1.0   1.0   1.0   1.0   1.0   1.0   1.0   1.0   1.0   1.0   1.0   \n",
       "...           ...   ...   ...   ...   ...   ...   ...   ...   ...   ...   ...   \n",
       "92122         1.0   1.0   1.0   1.0   1.0   1.0   1.0   1.0   1.0   1.0   1.0   \n",
       "922224        1.0   1.0   1.0   1.0   1.0   1.0   1.0   1.0   1.0   1.0   1.0   \n",
       "936468        1.0   1.0   1.0   1.0   1.0   1.0   1.0   1.0   1.0   1.0   1.0   \n",
       "940944        1.0   1.0   1.0   1.0   1.0   1.0   1.0   1.0   1.0   1.0   1.0   \n",
       "98246         1.0   1.0   1.0   1.0   1.0   1.0   1.0   1.0   1.0   1.0   1.0   \n",
       "\n",
       "filing_date  2016  2017  2018  2019  \n",
       "cik                                  \n",
       "1001082       1.0   1.0   1.0   1.0  \n",
       "1002047       1.0   1.0   1.0   1.0  \n",
       "1035443       1.0   1.0   1.0   1.0  \n",
       "1037540       1.0   1.0   1.0   1.0  \n",
       "1047862       1.0   1.0   1.0   1.0  \n",
       "...           ...   ...   ...   ...  \n",
       "92122         1.0   1.0   1.0   1.0  \n",
       "922224        1.0   1.0   1.0   1.0  \n",
       "936468        1.0   1.0   1.0   1.0  \n",
       "940944        1.0   1.0   1.0   NaN  \n",
       "98246         1.0   1.0   1.0   1.0  \n",
       "\n",
       "[99 rows x 15 columns]"
      ]
     },
     "execution_count": 43,
     "metadata": {},
     "output_type": "execute_result"
    }
   ],
   "source": [
    "# Explore the number of filings per firm per year\n",
    "df.groupby(['cik', df['filing_date'].dt.year])['file_name'].count().unstack()"
   ]
  },
  {
   "cell_type": "code",
   "execution_count": null,
   "id": "5ae04f82",
   "metadata": {},
   "outputs": [],
   "source": []
  }
 ],
 "metadata": {
  "kernelspec": {
   "display_name": "Python 3",
   "language": "python",
   "name": "python3"
  },
  "language_info": {
   "codemirror_mode": {
    "name": "ipython",
    "version": 3
   },
   "file_extension": ".py",
   "mimetype": "text/x-python",
   "name": "python",
   "nbconvert_exporter": "python",
   "pygments_lexer": "ipython3",
   "version": "3.7.10"
  }
 },
 "nbformat": 4,
 "nbformat_minor": 5
}
